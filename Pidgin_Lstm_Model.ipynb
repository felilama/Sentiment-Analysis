{
 "cells": [
  {
   "cell_type": "code",
   "execution_count": 1,
   "metadata": {},
   "outputs": [],
   "source": [
    "import numpy as np \n",
    "import pandas as pd\n",
    "import matplotlib.pyplot as plt\n",
    "# import seaborn as sns\n",
    "from keras.preprocessing.text import Tokenizer\n",
    "#from tensorflow.keras.preprocessing.sequence import pad_sequences\n",
    "from keras.utils import pad_sequences\n",
    "from keras.models import Sequential\n",
    "from keras.layers import Dense, Embedding, LSTM, SpatialDropout1D\n",
    "from sklearn.model_selection import train_test_split\n",
    "from keras.utils.np_utils import to_categorical\n",
    "from keras.callbacks import EarlyStopping\n",
    "from keras.layers import Dropout\n",
    "import re\n",
    "from nltk.corpus import stopwords\n",
    "from nltk import word_tokenize\n",
    "STOPWORDS = set(stopwords.words('english'))\n",
    "from keras.preprocessing.text import Tokenizer\n",
    "from sklearn.metrics import confusion_matrix, classification_report, accuracy_score"
   ]
  },
  {
   "cell_type": "code",
   "execution_count": 2,
   "metadata": {},
   "outputs": [
    {
     "data": {
      "text/html": [
       "<div>\n",
       "<style scoped>\n",
       "    .dataframe tbody tr th:only-of-type {\n",
       "        vertical-align: middle;\n",
       "    }\n",
       "\n",
       "    .dataframe tbody tr th {\n",
       "        vertical-align: top;\n",
       "    }\n",
       "\n",
       "    .dataframe thead th {\n",
       "        text-align: right;\n",
       "    }\n",
       "</style>\n",
       "<table border=\"1\" class=\"dataframe\">\n",
       "  <thead>\n",
       "    <tr style=\"text-align: right;\">\n",
       "      <th></th>\n",
       "      <th>Tweet</th>\n",
       "      <th>Sentiment</th>\n",
       "    </tr>\n",
       "  </thead>\n",
       "  <tbody>\n",
       "    <tr>\n",
       "      <th>0</th>\n",
       "      <td>Make una be people wey like peace  MARK 9 : 50 .</td>\n",
       "      <td>positive</td>\n",
       "    </tr>\n",
       "    <tr>\n",
       "      <th>1</th>\n",
       "      <td>Which advice Jesus give wey fit help us use lo...</td>\n",
       "      <td>positive</td>\n",
       "    </tr>\n",
       "    <tr>\n",
       "      <th>2</th>\n",
       "      <td>Which question we fit ask ourself if we dey th...</td>\n",
       "      <td>neutral</td>\n",
       "    </tr>\n",
       "    <tr>\n",
       "      <th>3</th>\n",
       "      <td>How the three things wey Jesus talk for Matthe...</td>\n",
       "      <td>positive</td>\n",
       "    </tr>\n",
       "    <tr>\n",
       "      <th>4</th>\n",
       "      <td>Wetin be the quarrel wey some people get wey d...</td>\n",
       "      <td>neutral</td>\n",
       "    </tr>\n",
       "    <tr>\n",
       "      <th>...</th>\n",
       "      <td>...</td>\n",
       "      <td>...</td>\n",
       "    </tr>\n",
       "    <tr>\n",
       "      <th>1974</th>\n",
       "      <td>The convent for Zaragoza</td>\n",
       "      <td>Neutral</td>\n",
       "    </tr>\n",
       "    <tr>\n",
       "      <th>1975</th>\n",
       "      <td>But I no know whether na the correct thing I d...</td>\n",
       "      <td>Positive</td>\n",
       "    </tr>\n",
       "    <tr>\n",
       "      <th>1976</th>\n",
       "      <td>I remember when I pray sey</td>\n",
       "      <td>Neutral</td>\n",
       "    </tr>\n",
       "    <tr>\n",
       "      <th>1977</th>\n",
       "      <td>Wetin my church members and my family people g...</td>\n",
       "      <td>Positive</td>\n",
       "    </tr>\n",
       "    <tr>\n",
       "      <th>1978</th>\n",
       "      <td>I come answer am sey : “ And wetin God go talk...</td>\n",
       "      <td>Neutral</td>\n",
       "    </tr>\n",
       "  </tbody>\n",
       "</table>\n",
       "<p>1979 rows × 2 columns</p>\n",
       "</div>"
      ],
      "text/plain": [
       "                                                  Tweet Sentiment\n",
       "0      Make una be people wey like peace  MARK 9 : 50 .  positive\n",
       "1     Which advice Jesus give wey fit help us use lo...  positive\n",
       "2     Which question we fit ask ourself if we dey th...   neutral\n",
       "3     How the three things wey Jesus talk for Matthe...  positive\n",
       "4     Wetin be the quarrel wey some people get wey d...   neutral\n",
       "...                                                 ...       ...\n",
       "1974                          The convent for Zaragoza    Neutral\n",
       "1975  But I no know whether na the correct thing I d...  Positive\n",
       "1976                        I remember when I pray sey    Neutral\n",
       "1977  Wetin my church members and my family people g...  Positive\n",
       "1978  I come answer am sey : “ And wetin God go talk...   Neutral\n",
       "\n",
       "[1979 rows x 2 columns]"
      ]
     },
     "execution_count": 2,
     "metadata": {},
     "output_type": "execute_result"
    }
   ],
   "source": [
    "# Load dataset\n",
    "dfi = pd.read_csv('pidgin_translated.csv')\n",
    "df = pd.read_csv('naija_pidgin_dataset.csv')\n",
    "\n",
    "dfi"
   ]
  },
  {
   "cell_type": "code",
   "execution_count": 3,
   "metadata": {},
   "outputs": [
    {
     "name": "stdout",
     "output_type": "stream",
     "text": [
      "<class 'pandas.core.frame.DataFrame'>\n",
      "RangeIndex: 1979 entries, 0 to 1978\n",
      "Data columns (total 2 columns):\n",
      " #   Column     Non-Null Count  Dtype \n",
      "---  ------     --------------  ----- \n",
      " 0   Tweet      1979 non-null   object\n",
      " 1   Sentiment  1979 non-null   object\n",
      "dtypes: object(2)\n",
      "memory usage: 31.0+ KB\n"
     ]
    }
   ],
   "source": [
    "dfi.head()\n",
    "dfi.info()"
   ]
  },
  {
   "cell_type": "code",
   "execution_count": 4,
   "metadata": {},
   "outputs": [
    {
     "name": "stderr",
     "output_type": "stream",
     "text": [
      "[nltk_data] Downloading package stopwords to\n",
      "[nltk_data]     C:\\Users\\Feli\\AppData\\Roaming\\nltk_data...\n",
      "[nltk_data]   Package stopwords is already up-to-date!\n"
     ]
    }
   ],
   "source": [
    "import re\n",
    "import nltk\n",
    "from nltk.stem.cistem import Cistem\n",
    "from nltk.stem import *\n",
    "from nltk.stem.porter import *\n",
    "\n",
    "from nltk.corpus import stopwords\n",
    "nltk.download(\"stopwords\")\n",
    "from nltk.tokenize import TweetTokenizer \n",
    "\n",
    "tweet_tokenizer = TweetTokenizer()\n",
    "stemmer_ENG = PorterStemmer()\n",
    "stemmer_GER = Cistem()\n",
    "\n",
    "\n",
    "LINKS = \"http\\S+\"\n",
    "USERNAMES = \"@\\S+\"\n",
    "CONSECUTIVE = '[.]{2,}'\n",
    "NON_ALPHA = '(?:(?<=^)|(?<=\\s))(\\d+[.,]*)+(?=$|\\s)'\n",
    "HASHTAG = '#'\n",
    "RT = 'rt'\n",
    "SYMBOLS = '[^\\w& ]+'\n",
    "\n",
    "\n",
    "\n",
    "def tweet_to_words_ENG(text):\n",
    "    text = text.lower() # Convert to lower case\n",
    "    # text = expand(text) #expands contractions\n",
    "    text = re.sub(LINKS, \"XXXLINKXXX\", text) # Replace links with token\n",
    "    text = re.sub(USERNAMES, \"XXXUSERNAMEXXX\", text) # Replace mentions with token\n",
    "    text = re.sub(CONSECUTIVE, ' ... ', text) # Unify consecutive periods\n",
    "    text = re.sub(NON_ALPHA, \"\", text) # Remove all numbers not being part of alphanumeric word\n",
    "    text = re.sub(HASHTAG, \"\", text) # Remove '#' in front of hashtags\n",
    "    text = re.sub(RT, \"\", text) # Remove 'RT'\n",
    "    text = re.sub(SYMBOLS, \" \", text) # removes symbols\n",
    "    text = text.lower()\n",
    "\n",
    "    return text"
   ]
  },
  {
   "cell_type": "code",
   "execution_count": 5,
   "metadata": {},
   "outputs": [
    {
     "data": {
      "text/html": [
       "<div>\n",
       "<style scoped>\n",
       "    .dataframe tbody tr th:only-of-type {\n",
       "        vertical-align: middle;\n",
       "    }\n",
       "\n",
       "    .dataframe tbody tr th {\n",
       "        vertical-align: top;\n",
       "    }\n",
       "\n",
       "    .dataframe thead th {\n",
       "        text-align: right;\n",
       "    }\n",
       "</style>\n",
       "<table border=\"1\" class=\"dataframe\">\n",
       "  <thead>\n",
       "    <tr style=\"text-align: right;\">\n",
       "      <th></th>\n",
       "      <th>Tweet</th>\n",
       "      <th>Sentiment</th>\n",
       "    </tr>\n",
       "  </thead>\n",
       "  <tbody>\n",
       "    <tr>\n",
       "      <th>0</th>\n",
       "      <td>Make una be people wey like peace  MARK 9 : 50 .</td>\n",
       "      <td>positive</td>\n",
       "    </tr>\n",
       "    <tr>\n",
       "      <th>1</th>\n",
       "      <td>Which advice Jesus give wey fit help us use lo...</td>\n",
       "      <td>positive</td>\n",
       "    </tr>\n",
       "    <tr>\n",
       "      <th>2</th>\n",
       "      <td>Which question we fit ask ourself if we dey th...</td>\n",
       "      <td>neutral</td>\n",
       "    </tr>\n",
       "    <tr>\n",
       "      <th>3</th>\n",
       "      <td>How the three things wey Jesus talk for Matthe...</td>\n",
       "      <td>positive</td>\n",
       "    </tr>\n",
       "    <tr>\n",
       "      <th>4</th>\n",
       "      <td>Wetin be the quarrel wey some people get wey d...</td>\n",
       "      <td>neutral</td>\n",
       "    </tr>\n",
       "    <tr>\n",
       "      <th>...</th>\n",
       "      <td>...</td>\n",
       "      <td>...</td>\n",
       "    </tr>\n",
       "    <tr>\n",
       "      <th>1974</th>\n",
       "      <td>The convent for Zaragoza</td>\n",
       "      <td>Neutral</td>\n",
       "    </tr>\n",
       "    <tr>\n",
       "      <th>1975</th>\n",
       "      <td>But I no know whether na the correct thing I d...</td>\n",
       "      <td>Positive</td>\n",
       "    </tr>\n",
       "    <tr>\n",
       "      <th>1976</th>\n",
       "      <td>I remember when I pray sey</td>\n",
       "      <td>Neutral</td>\n",
       "    </tr>\n",
       "    <tr>\n",
       "      <th>1977</th>\n",
       "      <td>Wetin my church members and my family people g...</td>\n",
       "      <td>Positive</td>\n",
       "    </tr>\n",
       "    <tr>\n",
       "      <th>1978</th>\n",
       "      <td>I come answer am sey : “ And wetin God go talk...</td>\n",
       "      <td>Neutral</td>\n",
       "    </tr>\n",
       "  </tbody>\n",
       "</table>\n",
       "<p>1979 rows × 2 columns</p>\n",
       "</div>"
      ],
      "text/plain": [
       "                                                  Tweet Sentiment\n",
       "0      Make una be people wey like peace  MARK 9 : 50 .  positive\n",
       "1     Which advice Jesus give wey fit help us use lo...  positive\n",
       "2     Which question we fit ask ourself if we dey th...   neutral\n",
       "3     How the three things wey Jesus talk for Matthe...  positive\n",
       "4     Wetin be the quarrel wey some people get wey d...   neutral\n",
       "...                                                 ...       ...\n",
       "1974                          The convent for Zaragoza    Neutral\n",
       "1975  But I no know whether na the correct thing I d...  Positive\n",
       "1976                        I remember when I pray sey    Neutral\n",
       "1977  Wetin my church members and my family people g...  Positive\n",
       "1978  I come answer am sey : “ And wetin God go talk...   Neutral\n",
       "\n",
       "[1979 rows x 2 columns]"
      ]
     },
     "execution_count": 5,
     "metadata": {},
     "output_type": "execute_result"
    }
   ],
   "source": [
    "df = pd.DataFrame(df)\n",
    "dfi = pd.DataFrame(dfi)\n",
    "dfi"
   ]
  },
  {
   "cell_type": "code",
   "execution_count": 6,
   "metadata": {},
   "outputs": [
    {
     "data": {
      "text/html": [
       "<div>\n",
       "<style scoped>\n",
       "    .dataframe tbody tr th:only-of-type {\n",
       "        vertical-align: middle;\n",
       "    }\n",
       "\n",
       "    .dataframe tbody tr th {\n",
       "        vertical-align: top;\n",
       "    }\n",
       "\n",
       "    .dataframe thead th {\n",
       "        text-align: right;\n",
       "    }\n",
       "</style>\n",
       "<table border=\"1\" class=\"dataframe\">\n",
       "  <thead>\n",
       "    <tr style=\"text-align: right;\">\n",
       "      <th></th>\n",
       "      <th>Tweet</th>\n",
       "      <th>Sentiment</th>\n",
       "      <th>clean</th>\n",
       "    </tr>\n",
       "  </thead>\n",
       "  <tbody>\n",
       "    <tr>\n",
       "      <th>0</th>\n",
       "      <td>Make una be people wey like peace  MARK 9 : 50 .</td>\n",
       "      <td>positive</td>\n",
       "      <td>make una be people wey like peace  mark</td>\n",
       "    </tr>\n",
       "    <tr>\n",
       "      <th>1</th>\n",
       "      <td>Which advice Jesus give wey fit help us use lo...</td>\n",
       "      <td>positive</td>\n",
       "      <td>which advice jesus give wey fit help us use lo...</td>\n",
       "    </tr>\n",
       "    <tr>\n",
       "      <th>2</th>\n",
       "      <td>Which question we fit ask ourself if we dey th...</td>\n",
       "      <td>neutral</td>\n",
       "      <td>which question we fit ask ourself if we dey th...</td>\n",
       "    </tr>\n",
       "    <tr>\n",
       "      <th>3</th>\n",
       "      <td>How the three things wey Jesus talk for Matthe...</td>\n",
       "      <td>positive</td>\n",
       "      <td>how the three things wey jesus talk for matthe...</td>\n",
       "    </tr>\n",
       "    <tr>\n",
       "      <th>4</th>\n",
       "      <td>Wetin be the quarrel wey some people get wey d...</td>\n",
       "      <td>neutral</td>\n",
       "      <td>wetin be the quarrel wey some people get wey d...</td>\n",
       "    </tr>\n",
       "    <tr>\n",
       "      <th>...</th>\n",
       "      <td>...</td>\n",
       "      <td>...</td>\n",
       "      <td>...</td>\n",
       "    </tr>\n",
       "    <tr>\n",
       "      <th>1974</th>\n",
       "      <td>The convent for Zaragoza</td>\n",
       "      <td>Neutral</td>\n",
       "      <td>the convent for zaragoza</td>\n",
       "    </tr>\n",
       "    <tr>\n",
       "      <th>1975</th>\n",
       "      <td>But I no know whether na the correct thing I d...</td>\n",
       "      <td>Positive</td>\n",
       "      <td>but i no know whether na the correct thing i d...</td>\n",
       "    </tr>\n",
       "    <tr>\n",
       "      <th>1976</th>\n",
       "      <td>I remember when I pray sey</td>\n",
       "      <td>Neutral</td>\n",
       "      <td>i remember when i pray sey</td>\n",
       "    </tr>\n",
       "    <tr>\n",
       "      <th>1977</th>\n",
       "      <td>Wetin my church members and my family people g...</td>\n",
       "      <td>Positive</td>\n",
       "      <td>wetin my church members and my family people g...</td>\n",
       "    </tr>\n",
       "    <tr>\n",
       "      <th>1978</th>\n",
       "      <td>I come answer am sey : “ And wetin God go talk...</td>\n",
       "      <td>Neutral</td>\n",
       "      <td>i come answer am sey     and wetin god go talk...</td>\n",
       "    </tr>\n",
       "  </tbody>\n",
       "</table>\n",
       "<p>1979 rows × 3 columns</p>\n",
       "</div>"
      ],
      "text/plain": [
       "                                                  Tweet Sentiment  \\\n",
       "0      Make una be people wey like peace  MARK 9 : 50 .  positive   \n",
       "1     Which advice Jesus give wey fit help us use lo...  positive   \n",
       "2     Which question we fit ask ourself if we dey th...   neutral   \n",
       "3     How the three things wey Jesus talk for Matthe...  positive   \n",
       "4     Wetin be the quarrel wey some people get wey d...   neutral   \n",
       "...                                                 ...       ...   \n",
       "1974                          The convent for Zaragoza    Neutral   \n",
       "1975  But I no know whether na the correct thing I d...  Positive   \n",
       "1976                        I remember when I pray sey    Neutral   \n",
       "1977  Wetin my church members and my family people g...  Positive   \n",
       "1978  I come answer am sey : “ And wetin God go talk...   Neutral   \n",
       "\n",
       "                                                  clean  \n",
       "0         make una be people wey like peace  mark        \n",
       "1     which advice jesus give wey fit help us use lo...  \n",
       "2     which question we fit ask ourself if we dey th...  \n",
       "3     how the three things wey jesus talk for matthe...  \n",
       "4     wetin be the quarrel wey some people get wey d...  \n",
       "...                                                 ...  \n",
       "1974                          the convent for zaragoza   \n",
       "1975  but i no know whether na the correct thing i d...  \n",
       "1976                        i remember when i pray sey   \n",
       "1977  wetin my church members and my family people g...  \n",
       "1978  i come answer am sey     and wetin god go talk...  \n",
       "\n",
       "[1979 rows x 3 columns]"
      ]
     },
     "execution_count": 6,
     "metadata": {},
     "output_type": "execute_result"
    }
   ],
   "source": [
    "df['clean'] = df[\"Tweet\"].apply(tweet_to_words_ENG)\n",
    "\n",
    "dfi['clean'] = dfi[\"Tweet\"].apply(tweet_to_words_ENG)\n",
    "dfi"
   ]
  },
  {
   "cell_type": "code",
   "execution_count": 67,
   "metadata": {},
   "outputs": [
    {
     "data": {
      "text/html": [
       "<div>\n",
       "<style scoped>\n",
       "    .dataframe tbody tr th:only-of-type {\n",
       "        vertical-align: middle;\n",
       "    }\n",
       "\n",
       "    .dataframe tbody tr th {\n",
       "        vertical-align: top;\n",
       "    }\n",
       "\n",
       "    .dataframe thead th {\n",
       "        text-align: right;\n",
       "    }\n",
       "</style>\n",
       "<table border=\"1\" class=\"dataframe\">\n",
       "  <thead>\n",
       "    <tr style=\"text-align: right;\">\n",
       "      <th></th>\n",
       "      <th>Tweet</th>\n",
       "      <th>Sentiment</th>\n",
       "      <th>clean</th>\n",
       "    </tr>\n",
       "  </thead>\n",
       "  <tbody>\n",
       "    <tr>\n",
       "      <th>0</th>\n",
       "      <td>we don realize hin importance after that city ...</td>\n",
       "      <td>positive</td>\n",
       "      <td>we don realize hin impoance after that city lo...</td>\n",
       "    </tr>\n",
       "    <tr>\n",
       "      <th>1</th>\n",
       "      <td>dem don nominate and second senator ovie omoag...</td>\n",
       "      <td>neutral</td>\n",
       "      <td>dem don nominate and second senator ovie omoag...</td>\n",
       "    </tr>\n",
       "    <tr>\n",
       "      <th>2</th>\n",
       "      <td>don come give una free awoof ...awoof!!! o .. ...</td>\n",
       "      <td>positive</td>\n",
       "      <td>don come give una free awoof    awoof  o     s...</td>\n",
       "    </tr>\n",
       "    <tr>\n",
       "      <th>3</th>\n",
       "      <td>coronavirus update: washing your hands with so...</td>\n",
       "      <td>neutral</td>\n",
       "      <td>coronavirus update  washing your hands with so...</td>\n",
       "    </tr>\n",
       "    <tr>\n",
       "      <th>4</th>\n",
       "      <td>\"people dey talk about iniesta paul scholes pu...</td>\n",
       "      <td>NaN</td>\n",
       "      <td>people dey talk about iniesta paul scholes pu...</td>\n",
       "    </tr>\n",
       "    <tr>\n",
       "      <th>...</th>\n",
       "      <td>...</td>\n",
       "      <td>...</td>\n",
       "      <td>...</td>\n",
       "    </tr>\n",
       "    <tr>\n",
       "      <th>13995</th>\n",
       "      <td>why america target iran general qasem soleimani.</td>\n",
       "      <td>neutral</td>\n",
       "      <td>why america target iran general qasem soleimani</td>\n",
       "    </tr>\n",
       "    <tr>\n",
       "      <th>13996</th>\n",
       "      <td>which of these be the most fierce managerial r...</td>\n",
       "      <td>positive</td>\n",
       "      <td>which of these be the most fierce managerial r...</td>\n",
       "    </tr>\n",
       "    <tr>\n",
       "      <th>13997</th>\n",
       "      <td>even tammy abraham know say marcus rashford na...</td>\n",
       "      <td>positive</td>\n",
       "      <td>even tammy abraham know say marcus rashford na...</td>\n",
       "    </tr>\n",
       "    <tr>\n",
       "      <th>13998</th>\n",
       "      <td>you strong o. some pipo blood pressure don cli...</td>\n",
       "      <td>positive</td>\n",
       "      <td>you strong o  some pipo blood pressure don cli...</td>\n",
       "    </tr>\n",
       "    <tr>\n",
       "      <th>13999</th>\n",
       "      <td>\"redeemed pastor, two children drown during ho...</td>\n",
       "      <td>NaN</td>\n",
       "      <td>redeemed pastor  two children drown during ho...</td>\n",
       "    </tr>\n",
       "  </tbody>\n",
       "</table>\n",
       "<p>14000 rows × 3 columns</p>\n",
       "</div>"
      ],
      "text/plain": [
       "                                                   Tweet Sentiment  \\\n",
       "0      we don realize hin importance after that city ...  positive   \n",
       "1      dem don nominate and second senator ovie omoag...   neutral   \n",
       "2      don come give una free awoof ...awoof!!! o .. ...  positive   \n",
       "3      coronavirus update: washing your hands with so...   neutral   \n",
       "4      \"people dey talk about iniesta paul scholes pu...       NaN   \n",
       "...                                                  ...       ...   \n",
       "13995   why america target iran general qasem soleimani.   neutral   \n",
       "13996  which of these be the most fierce managerial r...  positive   \n",
       "13997  even tammy abraham know say marcus rashford na...  positive   \n",
       "13998  you strong o. some pipo blood pressure don cli...  positive   \n",
       "13999  \"redeemed pastor, two children drown during ho...       NaN   \n",
       "\n",
       "                                                   clean  \n",
       "0      we don realize hin impoance after that city lo...  \n",
       "1      dem don nominate and second senator ovie omoag...  \n",
       "2      don come give una free awoof    awoof  o     s...  \n",
       "3      coronavirus update  washing your hands with so...  \n",
       "4       people dey talk about iniesta paul scholes pu...  \n",
       "...                                                  ...  \n",
       "13995   why america target iran general qasem soleimani   \n",
       "13996  which of these be the most fierce managerial r...  \n",
       "13997  even tammy abraham know say marcus rashford na...  \n",
       "13998  you strong o  some pipo blood pressure don cli...  \n",
       "13999   redeemed pastor  two children drown during ho...  \n",
       "\n",
       "[14000 rows x 3 columns]"
      ]
     },
     "execution_count": 67,
     "metadata": {},
     "output_type": "execute_result"
    }
   ],
   "source": [
    "# Example of correcting an incorrect label\n",
    "df['Sentiment'] = df['Sentiment'].replace('postive', 'positive') # if 'postive' was a typo\n",
    "df"
   ]
  },
  {
   "cell_type": "code",
   "execution_count": 68,
   "metadata": {},
   "outputs": [
    {
     "data": {
      "text/html": [
       "<div>\n",
       "<style scoped>\n",
       "    .dataframe tbody tr th:only-of-type {\n",
       "        vertical-align: middle;\n",
       "    }\n",
       "\n",
       "    .dataframe tbody tr th {\n",
       "        vertical-align: top;\n",
       "    }\n",
       "\n",
       "    .dataframe thead th {\n",
       "        text-align: right;\n",
       "    }\n",
       "</style>\n",
       "<table border=\"1\" class=\"dataframe\">\n",
       "  <thead>\n",
       "    <tr style=\"text-align: right;\">\n",
       "      <th></th>\n",
       "      <th>Tweet</th>\n",
       "      <th>Sentiment</th>\n",
       "      <th>clean</th>\n",
       "    </tr>\n",
       "  </thead>\n",
       "  <tbody>\n",
       "    <tr>\n",
       "      <th>0</th>\n",
       "      <td>we don realize hin importance after that city ...</td>\n",
       "      <td>positive</td>\n",
       "      <td>we don realize hin impoance after that city lo...</td>\n",
       "    </tr>\n",
       "    <tr>\n",
       "      <th>1</th>\n",
       "      <td>dem don nominate and second senator ovie omoag...</td>\n",
       "      <td>neutral</td>\n",
       "      <td>dem don nominate and second senator ovie omoag...</td>\n",
       "    </tr>\n",
       "    <tr>\n",
       "      <th>2</th>\n",
       "      <td>don come give una free awoof ...awoof!!! o .. ...</td>\n",
       "      <td>positive</td>\n",
       "      <td>don come give una free awoof    awoof  o     s...</td>\n",
       "    </tr>\n",
       "    <tr>\n",
       "      <th>3</th>\n",
       "      <td>coronavirus update: washing your hands with so...</td>\n",
       "      <td>neutral</td>\n",
       "      <td>coronavirus update  washing your hands with so...</td>\n",
       "    </tr>\n",
       "    <tr>\n",
       "      <th>5</th>\n",
       "      <td>election latest</td>\n",
       "      <td>positive</td>\n",
       "      <td>election latest</td>\n",
       "    </tr>\n",
       "    <tr>\n",
       "      <th>...</th>\n",
       "      <td>...</td>\n",
       "      <td>...</td>\n",
       "      <td>...</td>\n",
       "    </tr>\n",
       "    <tr>\n",
       "      <th>13994</th>\n",
       "      <td>di bridge wey don dey di school since 10 years...</td>\n",
       "      <td>neutral</td>\n",
       "      <td>di bridge wey don dey di school since  years b...</td>\n",
       "    </tr>\n",
       "    <tr>\n",
       "      <th>13995</th>\n",
       "      <td>why america target iran general qasem soleimani.</td>\n",
       "      <td>neutral</td>\n",
       "      <td>why america target iran general qasem soleimani</td>\n",
       "    </tr>\n",
       "    <tr>\n",
       "      <th>13996</th>\n",
       "      <td>which of these be the most fierce managerial r...</td>\n",
       "      <td>positive</td>\n",
       "      <td>which of these be the most fierce managerial r...</td>\n",
       "    </tr>\n",
       "    <tr>\n",
       "      <th>13997</th>\n",
       "      <td>even tammy abraham know say marcus rashford na...</td>\n",
       "      <td>positive</td>\n",
       "      <td>even tammy abraham know say marcus rashford na...</td>\n",
       "    </tr>\n",
       "    <tr>\n",
       "      <th>13998</th>\n",
       "      <td>you strong o. some pipo blood pressure don cli...</td>\n",
       "      <td>positive</td>\n",
       "      <td>you strong o  some pipo blood pressure don cli...</td>\n",
       "    </tr>\n",
       "  </tbody>\n",
       "</table>\n",
       "<p>9623 rows × 3 columns</p>\n",
       "</div>"
      ],
      "text/plain": [
       "                                                   Tweet Sentiment  \\\n",
       "0      we don realize hin importance after that city ...  positive   \n",
       "1      dem don nominate and second senator ovie omoag...   neutral   \n",
       "2      don come give una free awoof ...awoof!!! o .. ...  positive   \n",
       "3      coronavirus update: washing your hands with so...   neutral   \n",
       "5                                        election latest  positive   \n",
       "...                                                  ...       ...   \n",
       "13994  di bridge wey don dey di school since 10 years...   neutral   \n",
       "13995   why america target iran general qasem soleimani.   neutral   \n",
       "13996  which of these be the most fierce managerial r...  positive   \n",
       "13997  even tammy abraham know say marcus rashford na...  positive   \n",
       "13998  you strong o. some pipo blood pressure don cli...  positive   \n",
       "\n",
       "                                                   clean  \n",
       "0      we don realize hin impoance after that city lo...  \n",
       "1      dem don nominate and second senator ovie omoag...  \n",
       "2      don come give una free awoof    awoof  o     s...  \n",
       "3      coronavirus update  washing your hands with so...  \n",
       "5                                        election latest  \n",
       "...                                                  ...  \n",
       "13994  di bridge wey don dey di school since  years b...  \n",
       "13995   why america target iran general qasem soleimani   \n",
       "13996  which of these be the most fierce managerial r...  \n",
       "13997  even tammy abraham know say marcus rashford na...  \n",
       "13998  you strong o  some pipo blood pressure don cli...  \n",
       "\n",
       "[9623 rows x 3 columns]"
      ]
     },
     "execution_count": 68,
     "metadata": {},
     "output_type": "execute_result"
    }
   ],
   "source": [
    "df = df.dropna(subset=['Sentiment'])\n",
    "df"
   ]
  },
  {
   "cell_type": "markdown",
   "metadata": {},
   "source": [
    "# DATA SHAPING FOR MODEL INPUT"
   ]
  },
  {
   "cell_type": "code",
   "execution_count": 7,
   "metadata": {},
   "outputs": [
    {
     "name": "stdout",
     "output_type": "stream",
     "text": [
      "Found 1235 unique tokens.\n"
     ]
    }
   ],
   "source": [
    "# # The maximum number of words to be used. (most frequent)\n",
    "FREQUENT_WORDS_COUNT = 20000\n",
    "# # Max number of words for the padding -> max length tweet 280 chars ~60 words, also best results after experimenting\n",
    "SEQUENCE_LENGTH_COUNT =60\n",
    "# Specify the dimension of each token's vector.\n",
    "EMBEDDING_DIM = 100\n",
    "\n",
    "tokenizer = Tokenizer(num_words=FREQUENT_WORDS_COUNT, lower=True, oov_token=\"<OOV>\")\n",
    "# tokenizer = Tokenizer(num_words=MAX_NB_WORDS, lower=True)\n",
    "#tokenizer.fit_on_texts(df[\"Tweet\"].values)\n",
    "tokenizer.fit_on_texts(dfi[\"Tweet\"].values)\n",
    "word_index = tokenizer.word_index\n",
    "print('Found %s unique tokens.' % len(word_index))"
   ]
  },
  {
   "cell_type": "code",
   "execution_count": 8,
   "metadata": {},
   "outputs": [
    {
     "name": "stdout",
     "output_type": "stream",
     "text": [
      "Shape of data tensor: (1979, 60)\n"
     ]
    }
   ],
   "source": [
    "X = tokenizer.texts_to_sequences(dfi[\"Tweet\"].values)\n",
    "X = pad_sequences(X, maxlen=SEQUENCE_LENGTH_COUNT)\n",
    "print('Shape of data tensor:', X.shape)"
   ]
  },
  {
   "cell_type": "code",
   "execution_count": 9,
   "metadata": {},
   "outputs": [
    {
     "name": "stdout",
     "output_type": "stream",
     "text": [
      "(1979,)\n"
     ]
    }
   ],
   "source": [
    "shape =dfi['Sentiment'].values.shape\n",
    "print(shape)"
   ]
  },
  {
   "cell_type": "code",
   "execution_count": 10,
   "metadata": {},
   "outputs": [
    {
     "name": "stdout",
     "output_type": "stream",
     "text": [
      "Shape of label tensor: (1979, 6)\n"
     ]
    }
   ],
   "source": [
    "Y = pd.get_dummies(dfi['Sentiment']).values\n",
    "print('Shape of label tensor:', Y.shape)"
   ]
  },
  {
   "cell_type": "code",
   "execution_count": 14,
   "metadata": {},
   "outputs": [
    {
     "name": "stdout",
     "output_type": "stream",
     "text": [
      "Unique Sentiments: ['positive' 'neutral' 'negative' 'Positive' 'Neutral' 'Negative']\n"
     ]
    }
   ],
   "source": [
    "unique_sentiments = dfi['Sentiment'].unique()\n",
    "print(\"Unique Sentiments:\", unique_sentiments)\n"
   ]
  },
  {
   "cell_type": "code",
   "execution_count": 15,
   "metadata": {},
   "outputs": [
    {
     "name": "stdout",
     "output_type": "stream",
     "text": [
      "Shape of label tensor: (1979, 3)\n"
     ]
    }
   ],
   "source": [
    "# Normalize the sentiment labels to lowercase\n",
    "dfi['Sentiment'] = dfi['Sentiment'].str.lower()\n",
    "\n",
    "# Apply one-hot encoding\n",
    "Y = pd.get_dummies(dfi['Sentiment']).values\n",
    "\n",
    "# Check the new shape of Y\n",
    "print('Shape of label tensor:', Y.shape)\n"
   ]
  },
  {
   "cell_type": "code",
   "execution_count": 16,
   "metadata": {},
   "outputs": [
    {
     "name": "stdout",
     "output_type": "stream",
     "text": [
      "(1781, 60) (1781, 3)\n",
      "(198, 60) (198, 3)\n"
     ]
    }
   ],
   "source": [
    "X_train, X_test, Y_train, Y_test = train_test_split(X,Y, test_size = 0.10)\n",
    "\n",
    "print(X_train.shape,Y_train.shape)\n",
    "print(X_test.shape,Y_test.shape)"
   ]
  },
  {
   "cell_type": "markdown",
   "metadata": {},
   "source": [
    "# MODEL CREATION"
   ]
  },
  {
   "cell_type": "code",
   "execution_count": 17,
   "metadata": {},
   "outputs": [
    {
     "name": "stdout",
     "output_type": "stream",
     "text": [
      "Model: \"sequential_1\"\n",
      "_________________________________________________________________\n",
      " Layer (type)                Output Shape              Param #   \n",
      "=================================================================\n",
      " embedding_1 (Embedding)     (None, 60, 100)           2000000   \n",
      "                                                                 \n",
      " spatial_dropout1d_1 (Spatia  (None, 60, 100)          0         \n",
      " lDropout1D)                                                     \n",
      "                                                                 \n",
      " lstm_1 (LSTM)               (None, 170)               184280    \n",
      "                                                                 \n",
      " dense_1 (Dense)             (None, 3)                 513       \n",
      "                                                                 \n",
      "=================================================================\n",
      "Total params: 2,184,793\n",
      "Trainable params: 2,184,793\n",
      "Non-trainable params: 0\n",
      "_________________________________________________________________\n",
      "None\n"
     ]
    }
   ],
   "source": [
    "PIDGIN_LSTM_OOV = Sequential()\n",
    "PIDGIN_LSTM_OOV.add(Embedding(FREQUENT_WORDS_COUNT, EMBEDDING_DIM, input_length=X.shape[1]))\n",
    "PIDGIN_LSTM_OOV.add(SpatialDropout1D(0.2))\n",
    "PIDGIN_LSTM_OOV.add(LSTM(170, dropout=0.2))\n",
    "\n",
    "# ENG_LSTM_OOV.add(Bidirectional(LSTM(100, dropout=0.2)))\n",
    "PIDGIN_LSTM_OOV.add(Dense(3, activation='softmax'))\n",
    "PIDGIN_LSTM_OOV.compile(loss='categorical_crossentropy', optimizer='adam', metrics=['accuracy'])\n",
    "print(PIDGIN_LSTM_OOV.summary())"
   ]
  },
  {
   "cell_type": "code",
   "execution_count": 18,
   "metadata": {},
   "outputs": [
    {
     "name": "stdout",
     "output_type": "stream",
     "text": [
      "Epoch 1/3\n",
      "26/26 [==============================] - 8s 172ms/step - loss: 0.9145 - accuracy: 0.6011 - val_loss: 0.8068 - val_accuracy: 0.6145\n",
      "Epoch 2/3\n",
      "26/26 [==============================] - 4s 142ms/step - loss: 0.8375 - accuracy: 0.6211 - val_loss: 0.8011 - val_accuracy: 0.6145\n",
      "Epoch 3/3\n",
      "26/26 [==============================] - 4s 143ms/step - loss: 0.8193 - accuracy: 0.6211 - val_loss: 0.8064 - val_accuracy: 0.6145\n"
     ]
    }
   ],
   "source": [
    "epochs = 3\n",
    "batch_size = 64\n",
    "\n",
    "history = PIDGIN_LSTM_OOV.fit(X_train, Y_train, epochs=epochs, batch_size=batch_size,validation_split=0.1,callbacks=[EarlyStopping(monitor='val_loss', patience=3, min_delta=0.0001)])\n"
   ]
  },
  {
   "cell_type": "code",
   "execution_count": 19,
   "metadata": {},
   "outputs": [
    {
     "name": "stdout",
     "output_type": "stream",
     "text": [
      "7/7 [==============================] - 0s 22ms/step - loss: 0.8825 - accuracy: 0.5909\n",
      "Test set\n",
      "  Loss: 0.883\n",
      "  Accuracy: 0.591\n"
     ]
    }
   ],
   "source": [
    "accr = PIDGIN_LSTM_OOV.evaluate(X_test,Y_test)\n",
    "print('Test set\\n  Loss: {:0.3f}\\n  Accuracy: {:0.3f}'.format(accr[0],accr[1]))"
   ]
  },
  {
   "cell_type": "code",
   "execution_count": 20,
   "metadata": {},
   "outputs": [],
   "source": [
    "# Saving the model\n",
    "PIDGIN_LSTM_OOV.save('PIDGIN_LSTM_OOV.h5')\n"
   ]
  },
  {
   "cell_type": "code",
   "execution_count": 20,
   "metadata": {},
   "outputs": [
    {
     "data": {
      "image/png": "[encoded data removed]",
      "text/plain": [
       "<Figure size 640x480 with 1 Axes>"
      ]
     },
     "metadata": {},
     "output_type": "display_data"
    }
   ],
   "source": [
    "plt.title('Loss')\n",
    "plt.plot(history.history['loss'], label='train')\n",
    "plt.plot(history.history['val_loss'], label='test')\n",
    "plt.legend()\n",
    "plt.show();"
   ]
  },
  {
   "cell_type": "code",
   "execution_count": 21,
   "metadata": {},
   "outputs": [
    {
     "data": {
      "image/png": "[encoded data removed]",
      "text/plain": [
       "<Figure size 640x480 with 1 Axes>"
      ]
     },
     "metadata": {},
     "output_type": "display_data"
    }
   ],
   "source": [
    "plt.title('Accuracy')\n",
    "plt.plot(history.history['accuracy'], label='train')\n",
    "plt.plot(history.history['val_accuracy'], label='test')\n",
    "plt.legend()\n",
    "plt.show();"
   ]
  },
  {
   "cell_type": "markdown",
   "metadata": {},
   "source": [
    "# ==== MODEL PERFORMANCE WITH LOADED MODEL ===="
   ]
  },
  {
   "cell_type": "markdown",
   "metadata": {},
   "source": [
    "# PREDICTION FUNCTION AND CLASSIFICATION REPORT"
   ]
  },
  {
   "cell_type": "code",
   "execution_count": 28,
   "metadata": {},
   "outputs": [],
   "source": [
    "#from keras.preprocessing.sequence import pad_sequences\n",
    "from keras.utils import pad_sequences\n",
    "from sklearn.metrics import classification_report\n",
    "from keras.preprocessing.text import Tokenizer\n",
    "import numpy as np\n",
    "\n",
    "# The maximum number of words to be used. (most frequent)\n",
    "FREQUENT_WORDS_COUNT = 20000\n",
    "# Max number of words for the padding -> max length tweet 280 chars ~60 words, also best results after experimenting\n",
    "SEQUENCE_LENGTH_COUNT = 60\n",
    "\n",
    "def prepare_tokenizer_new_input(frequent, train_data):\n",
    "    tokenizer = Tokenizer(num_words=frequent, lower=True, oov_token=\"<OOV>\")\n",
    "    tokenizer.fit_on_texts(train_data[\"Tweet\"].values)\n",
    "    return tokenizer\n",
    "\n",
    "def get_results(dataframe, model, tokenizer, column_name='Tweet'):\n",
    "    # Ensure the column exists in the dataframe\n",
    "    if column_name not in dataframe.columns:\n",
    "        raise ValueError(f\"Column {column_name} not found in the dataframe.\")\n",
    "\n",
    "    # Convert tweets to sequences and pad them\n",
    "    sequences = tokenizer.texts_to_sequences(dataframe[column_name].values)\n",
    "    padded_sequences = pad_sequences(sequences, maxlen=SEQUENCE_LENGTH_COUNT)\n",
    "\n",
    "    # Get model predictions\n",
    "    predictions = model.predict(padded_sequences)\n",
    "\n",
    "    # Map predictions to sentiment labels\n",
    "    labels = ['negative', 'neutral', 'positive']\n",
    "    predicted_labels = [labels[np.argmax(pred)] for pred in predictions]\n",
    "\n",
    "    # Generate classification report\n",
    "    return classification_report(dataframe['Sentiment'].values, predicted_labels)\n",
    "\n",
    "\n"
   ]
  },
  {
   "cell_type": "code",
   "execution_count": 29,
   "metadata": {},
   "outputs": [],
   "source": [
    "from keras.models import load_model\n",
    "\n",
    "# Load the model\n",
    "loaded_model = load_model('PIDGIN_LSTM_OOV.h5')\n",
    "\n",
    "\n"
   ]
  },
  {
   "cell_type": "code",
   "execution_count": 30,
   "metadata": {},
   "outputs": [
    {
     "name": "stdout",
     "output_type": "stream",
     "text": [
      "62/62 [==============================] - 2s 24ms/step\n",
      "              precision    recall  f1-score   support\n",
      "\n",
      "    negative       0.08      0.03      0.04       130\n",
      "     neutral       0.63      0.14      0.23      1222\n",
      "    positive       0.32      0.86      0.47       627\n",
      "\n",
      "    accuracy                           0.36      1979\n",
      "   macro avg       0.34      0.34      0.25      1979\n",
      "weighted avg       0.50      0.36      0.29      1979\n",
      "\n"
     ]
    }
   ],
   "source": [
    "# Example usage\n",
    "tokenizer = prepare_tokenizer_new_input(FREQUENT_WORDS_COUNT, df)\n",
    "report = get_results(dfi, loaded_model, tokenizer, column_name='Tweet')\n",
    "print(report)"
   ]
  },
  {
   "cell_type": "code",
   "execution_count": 1,
   "metadata": {},
   "outputs": [
    {
     "data": {
      "image/png": "[encoded data removed]",
      "text/plain": [
       "<Figure size 1000x600 with 3 Axes>"
      ]
     },
     "metadata": {},
     "output_type": "display_data"
    }
   ],
   "source": [
    "import matplotlib.pyplot as plt\n",
    "import seaborn as sns\n",
    "import pandas as pd\n",
    "\n",
    "# Data for Pidgin LSTM model\n",
    "data_pidgin = {\n",
    "    \"Sentiment\": [\"Negative\", \"Neutral\", \"Positive\"],\n",
    "    \"Precision\": [0.08, 0.63, 0.32],\n",
    "    \"Recall\": [0.03, 0.14, 0.86],\n",
    "    \"F1-Score\": [0.04, 0.23, 0.47],\n",
    "    \"Support\": [130, 1222, 627]\n",
    "}\n",
    "\n",
    "df_pidgin = pd.DataFrame(data_pidgin)\n",
    "\n",
    "# Plotting\n",
    "plt.figure(figsize=(10, 6))\n",
    "\n",
    "# Precision, Recall, and F1-Score for Pidgin_LSTM Model\n",
    "plt.subplot(1, 3, 1)\n",
    "sns.barplot(x=\"Sentiment\", y=\"Precision\", data=df_pidgin)\n",
    "plt.title(\"Precision per Sentiment (Pidgin_LSTM)\")\n",
    "\n",
    "plt.subplot(1, 3, 2)\n",
    "sns.barplot(x=\"Sentiment\", y=\"Recall\", data=df_pidgin)\n",
    "plt.title(\"Recall per Sentiment (Pidgin_LSTM)\")\n",
    "\n",
    "plt.subplot(1, 3, 3)\n",
    "sns.barplot(x=\"Sentiment\", y=\"F1-Score\", data=df_pidgin)\n",
    "plt.title(\"F1-Score per Sentiment (Pidgin_LSTM)\")\n",
    "\n",
    "# Save the figure\n",
    "plt.savefig('pidgin_lstm_performance.png', dpi=300)\n",
    "\n",
    "# Show the plot\n",
    "plt.show()\n"
   ]
  }
 ],
 "metadata": {
  "kernelspec": {
   "display_name": "Python 3",
   "language": "python",
   "name": "python3"
  },
  "language_info": {
   "codemirror_mode": {
    "name": "ipython",
    "version": 3
   },
   "file_extension": ".py",
   "mimetype": "text/x-python",
   "name": "python",
   "nbconvert_exporter": "python",
   "pygments_lexer": "ipython3",
   "version": "3.7.9"
  }
 },
 "nbformat": 4,
 "nbformat_minor": 2
}
